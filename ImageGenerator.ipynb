{
 "cells": [
  {
   "cell_type": "code",
   "execution_count": 27,
   "metadata": {},
   "outputs": [],
   "source": [
    "from PIL import Image\n",
    "import numpy as np\n",
    "\n",
    "data = np.random.randint(256,size=(500,500,3))\n",
    "image = Image.fromarray(data,mode='RGB')\n",
    "image.show()\n",
    "image.save('made.jpg')"
   ]
  }
 ],
 "metadata": {
  "interpreter": {
   "hash": "f667786a2998465b68f9ac69de6c450934725fcd1a96cfce05b6ebb7b5dbac7d"
  },
  "kernelspec": {
   "display_name": "Python 3.10.0 64-bit",
   "language": "python",
   "name": "python3"
  },
  "language_info": {
   "codemirror_mode": {
    "name": "ipython",
    "version": 3
   },
   "file_extension": ".py",
   "mimetype": "text/x-python",
   "name": "python",
   "nbconvert_exporter": "python",
   "pygments_lexer": "ipython3",
   "version": "3.9.7"
  },
  "orig_nbformat": 4
 },
 "nbformat": 4,
 "nbformat_minor": 2
}
